{
 "cells": [
  {
   "cell_type": "code",
   "execution_count": 2,
   "metadata": {},
   "outputs": [
    {
     "name": "stdout",
     "output_type": "stream",
     "text": [
      " * Serving Flask app \"__main__\" (lazy loading)\n",
      " * Environment: production\n",
      "   WARNING: This is a development server. Do not use it in a production deployment.\n",
      "   Use a production WSGI server instead.\n",
      " * Debug mode: off\n"
     ]
    },
    {
     "name": "stderr",
     "output_type": "stream",
     "text": [
      " * Running on http://127.0.0.1:5000/ (Press CTRL+C to quit)\n"
     ]
    }
   ],
   "source": [
    "#Flask is used to deploy machine learning or deplearning model  on any server\n",
    "#In this case my client data is input image and server return the classes of that images in the form of .json file."
   ]
  },
  {
   "cell_type": "markdown",
   "metadata": {},
   "source": [
    "# Client.py"
   ]
  },
  {
   "cell_type": "code",
   "execution_count": null,
   "metadata": {},
   "outputs": [],
   "source": [
    "import base64\n",
    "import json                    \n",
    "\n",
    "import requests\n",
    "\n",
    "api = 'http://localhost:8080/test'\n",
    "image_file = 'sample_image.png'\n",
    "\n",
    "with open(image_file, \"rb\") as f:\n",
    "    im_bytes = f.read()        \n",
    "im_b64 = base64.b64encode(im_bytes).decode(\"utf8\")\n",
    "\n",
    "headers = {'Content-type': 'application/json', 'Accept': 'text/plain'}\n",
    "  \n",
    "payload = json.dumps({\"image\": im_b64, \"other_key\": \"value\"})\n",
    "response = requests.post(api, data=payload, headers=headers)\n",
    "try:\n",
    "    data = response.json()     \n",
    "    print(data)                \n",
    "except requests.exceptions.RequestException:\n",
    "    print(response.text)"
   ]
  },
  {
   "cell_type": "markdown",
   "metadata": {},
   "source": [
    "# Server.py"
   ]
  },
  {
   "cell_type": "code",
   "execution_count": 3,
   "metadata": {},
   "outputs": [
    {
     "name": "stdout",
     "output_type": "stream",
     "text": [
      " * Serving Flask app \"__main__\" (lazy loading)\n",
      " * Environment: production\n",
      "   WARNING: This is a development server. Do not use it in a production deployment.\n",
      "   Use a production WSGI server instead.\n",
      " * Debug mode: off\n"
     ]
    },
    {
     "name": "stderr",
     "output_type": "stream",
     "text": [
      " * Running on all addresses.\n",
      "   WARNING: This is a development server. Do not use it in a production deployment.\n",
      " * Running on http://203.241.246.174:8080/ (Press CTRL+C to quit)\n"
     ]
    }
   ],
   "source": [
    "import io\n",
    "import json                    \n",
    "import base64                  \n",
    "import logging             \n",
    "import numpy as np\n",
    "from PIL import Image\n",
    "\n",
    "from flask import Flask, request, jsonify, abort\n",
    "\n",
    "app = Flask(__name__)          \n",
    "app.logger.setLevel(logging.DEBUG)\n",
    "  \n",
    "  \n",
    "@app.route(\"/test\", methods=['POST'])\n",
    "def test_method():         \n",
    "    # print(request.json)      \n",
    "    if not request.json or 'image' not in request.json: \n",
    "        abort(400)\n",
    "             \n",
    "    # get the base64 encoded string\n",
    "    im_b64 = request.json['image']\n",
    "\n",
    "    # convert it into bytes  \n",
    "    img_bytes = base64.b64decode(im_b64.encode('utf-8'))\n",
    "\n",
    "    # convert bytes data to PIL Image object\n",
    "    img = Image.open(io.BytesIO(img_bytes))\n",
    "\n",
    "    # PIL image object to numpy array\n",
    "    img_arr = np.asarray(img)      \n",
    "    print('img shape', img_arr.shape)\n",
    "\n",
    "    # process your img_arr here    \n",
    "    \n",
    "    # access other keys of json\n",
    "    # print(request.json['other_key'])\n",
    "\n",
    "    result_dict = {'output': 'output_key'}\n",
    "    return result_dict\n",
    "  \n",
    "  \n",
    "def run_server_api():\n",
    "    app.run(host='0.0.0.0', port=8080)\n",
    "  \n",
    "  \n",
    "if __name__ == \"__main__\":     \n",
    "    run_server_api()"
   ]
  },
  {
   "cell_type": "code",
   "execution_count": null,
   "metadata": {},
   "outputs": [],
   "source": []
  }
 ],
 "metadata": {
  "kernelspec": {
   "display_name": "Python 3 (ipykernel)",
   "language": "python",
   "name": "python3"
  },
  "language_info": {
   "codemirror_mode": {
    "name": "ipython",
    "version": 3
   },
   "file_extension": ".py",
   "mimetype": "text/x-python",
   "name": "python",
   "nbconvert_exporter": "python",
   "pygments_lexer": "ipython3",
   "version": "3.9.7"
  }
 },
 "nbformat": 4,
 "nbformat_minor": 4
}
